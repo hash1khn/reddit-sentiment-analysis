{
  "nbformat": 4,
  "nbformat_minor": 0,
  "metadata": {
    "colab": {
      "provenance": []
    },
    "kernelspec": {
      "name": "python3",
      "display_name": "Python 3"
    },
    "language_info": {
      "name": "python"
    }
  },
  "cells": [
    {
      "cell_type": "code",
      "execution_count": 2,
      "metadata": {
        "id": "Qi3029uShiNx"
      },
      "outputs": [],
      "source": [
        "#import packages\n",
        "import praw\n",
        "from datetime import date, timedelta\n",
        "import os\n",
        "import pandas as pd\n",
        "import matplotlib.pyplot as plt\n",
        "from dash import Dash, dcc, html, Input, Output, dash_table, callback\n",
        "import dash_bootstrap_components as dbc\n",
        "from dash_bootstrap_templates import load_figure_template, template_from_url\n",
        "import plotly.express as px\n",
        "from vaderSentiment.vaderSentiment import SentimentIntensityAnalyzer\n",
        "from IPython.core.display_functions import display"
      ]
    },
    {
      "cell_type": "code",
      "source": [
        "g_client_id=\"hwukA0emNXXE_iaver84pg\"\n",
        "g_client_secret=\"Gly0NvAbFwi5rFmjN-UvyjfJ3uIP8g\"\n",
        "g_user_agent=\"SentimentAnalysisScraper\"\n",
        "g_subreddit = \"Excel\"\n",
        "g_num_posts=25"
      ],
      "metadata": {
        "id": "fR9USREhlnW6"
      },
      "execution_count": 1,
      "outputs": []
    },
    {
      "cell_type": "code",
      "source": [
        "def init_reddit_app():\n",
        "    reddit = praw.Reddit(\n",
        "        client_id=g_client_id,\n",
        "        client_secret=g_client_secret,\n",
        "        user_agent=g_user_agent,check_for_async=False)\n",
        "    return reddit\n",
        "\n",
        "\n",
        "def get_posts(reddit, subreddit,time_span):\n",
        "    posts = []\n",
        "    top_posts = reddit.subreddit(subreddit).top(time_filter=time_span, limit=g_num_posts)\n",
        "\n",
        "    for post in top_posts:\n",
        "        posts.append(post.id)\n",
        "    return posts\n",
        "\n",
        "\n",
        "def get_comments(reddit, posts_id):\n",
        "    df_comments = pd.DataFrame(columns=['post_id', 'comment_id', 'comment_text'])\n",
        "    for _id in posts_id:\n",
        "        submission = reddit.submission(id=_id)\n",
        "        #print(submission.title, submission.num_comments)\n",
        "        submission.comments.replace_more(limit=0)\n",
        "\n",
        "        for comment in submission.comments.list():\n",
        "            try:\n",
        "                df_comments.loc[len(df_comments.index)] = [comment.submission.id, comment.id, comment.body]\n",
        "            except AttributeError:\n",
        "                pass\n",
        "    return df_comments\n",
        "\n",
        "\n",
        "def get_data(subreddit,time_span):\n",
        "    reddit = init_reddit_app()\n",
        "    postids = get_posts(reddit, subreddit, time_span)\n",
        "    df = get_comments(reddit, postids)\n",
        "#   display(df)\n",
        "    return df"
      ],
      "metadata": {
        "id": "CAi8YqA4mE4U"
      },
      "execution_count": 11,
      "outputs": []
    },
    {
      "cell_type": "code",
      "source": [
        "def sentiment_analyser_score(df):\n",
        "    analyser = SentimentIntensityAnalyzer()\n",
        "    df_sentiment = pd.DataFrame(columns=[\"comment_id\", \"comp_score\", \"sentiment\"])\n",
        "    #   values = list(df.comment_text.values.flatten())\n",
        "    values = list(df.comment_text.values)\n",
        "    for row in values:\n",
        "        score = analyser.polarity_scores(row)\n",
        "        if score[\"compound\"] > 0.5:\n",
        "            sentiment = \"positive\"\n",
        "        elif score[\"compound\"] < -0.05:\n",
        "            sentiment = \"negative\"\n",
        "        else:\n",
        "            sentiment = \"neutral\"\n",
        "        df_sentiment.loc[len(df_sentiment.index)] = [df.comment_id.loc[len(df_sentiment.index)], score[\"compound\"], sentiment]\n",
        "        #      Add sentiment to df\n",
        "    combined_df = df_sentiment.join(df.set_index(\"comment_id\"), on=\"comment_id\")\n",
        "    #display(combined_df)\n",
        "\n",
        "    return combined_df\n",
        "\n",
        "def score_data(df):\n",
        "    \"\"\"\n",
        "    \"\"\"\n",
        "    _df = sentiment_analyser_score(df).sort_values(by='comp_score',ascending=False)\n",
        "  #  display(_df['comment_text'].head(10))\n",
        "    return _df\n",
        "\n",
        "def get_scored_data(time):\n",
        "    df = score_data(get_data(g_subreddit,time))\n",
        "    return df\n",
        ""
      ],
      "metadata": {
        "id": "VcoO7usWmIO_"
      },
      "execution_count": 4,
      "outputs": []
    },
    {
      "cell_type": "code",
      "source": [
        "def display_comments(df):\n",
        "    _df= sentiment_analyser_score(df).sort_values(by='comp_score',ascending=False)\n",
        "    display(_df[\"comment_text\"].head(10))\n",
        "\n",
        "\n",
        "\n",
        "#return _df\n"
      ],
      "metadata": {
        "id": "QGUOHttlmNuu"
      },
      "execution_count": 5,
      "outputs": []
    },
    {
      "cell_type": "code",
      "source": [
        "def make_plot(df):\n",
        "    df = df[\"comp_score\"].rolling(400).mean()\n",
        "    plt.plot(df)\n",
        "    plt.xlabel(\"comment no\")\n",
        "    plt.ylabel(\"Compound Sentiment Score\")\n",
        "    plt.title(\"Running mean of Compound Sentiment Score, /r/soccer\")\n",
        "    plt.show()"
      ],
      "metadata": {
        "id": "WAJQiL55mRd0"
      },
      "execution_count": 6,
      "outputs": []
    },
    {
      "cell_type": "code",
      "source": [
        "def make_chart(df,time):\n",
        "    fig, ax = plt.subplots()\n",
        "    df=df[\"sentiment\"].value_counts().sort_index(axis=0).plot(kind='bar',color=['tab:red','tab:blue','tab:green'])\n",
        "    plt.title(\"Sentiment in /r/\" + g_subreddit + \" comments from past \" + time)\n",
        "    ax.bar_label(ax.containers[0], label_type='edge')\n",
        "    ax.set_ylabel('# of comments')\n",
        "    plt.xticks(rotation=0)\n",
        "    plt.show()\n"
      ],
      "metadata": {
        "id": "WIxcxliEmVVK"
      },
      "execution_count": 7,
      "outputs": []
    },
    {
      "cell_type": "code",
      "source": [
        "load_figure_template(\"superhero\")\n",
        "\n",
        "app = Dash(__name__, external_stylesheets=[dbc.themes.SUPERHERO])\n",
        "dropdown = dcc.Dropdown([\"day\", \"week\", \"month\"], \"day\", clearable=False)\n",
        "graph = dcc.Graph()\n",
        "app.layout = html.Div([html.H4(\"display comments\"), dropdown, graph])\n",
        "\n",
        "@callback(Output(graph, \"figure\"), Input(dropdown, \"value\"))\n",
        "def update_bar_chart(time):\n",
        "       df= get_scored_data(time)\n",
        "       dfs=df[\"sentiment\"].value_counts().sort_index(axis=0)\n",
        "       fig = px.bar(\n",
        "              dfs,\n",
        "              x=dfs.index, y=dfs.values,\n",
        "              color=dfs.index, color_discrete_map={'positive':'green','negative':'red','neutral':'blue'},\n",
        "              title=(\"Sentiment in /r/\" + g_subreddit + \" comments from past \" + time)\n",
        "              ).update_layout(xaxis_title = 'Sentiment')\n",
        "\n",
        "\n",
        "       return fig\n",
        "\n",
        "\n",
        "\n",
        "if __name__ == \"__main__\":\n",
        "    app.run_server(debug=True)"
      ],
      "metadata": {
        "colab": {
          "base_uri": "https://localhost:8080/",
          "height": 671
        },
        "id": "8skQ0UuNmXcO",
        "outputId": "877be656-d8c8-4dc5-a82e-4df31d4c85a8"
      },
      "execution_count": 8,
      "outputs": [
        {
          "output_type": "display_data",
          "data": {
            "text/plain": [
              "<IPython.core.display.Javascript object>"
            ],
            "application/javascript": [
              "(async (port, path, width, height, cache, element) => {\n",
              "    if (!google.colab.kernel.accessAllowed && !cache) {\n",
              "      return;\n",
              "    }\n",
              "    element.appendChild(document.createTextNode(''));\n",
              "    const url = await google.colab.kernel.proxyPort(port, {cache});\n",
              "    const iframe = document.createElement('iframe');\n",
              "    iframe.src = new URL(path, url).toString();\n",
              "    iframe.height = height;\n",
              "    iframe.width = width;\n",
              "    iframe.style.border = 0;\n",
              "    iframe.allow = [\n",
              "        'accelerometer',\n",
              "        'autoplay',\n",
              "        'camera',\n",
              "        'clipboard-read',\n",
              "        'clipboard-write',\n",
              "        'gyroscope',\n",
              "        'magnetometer',\n",
              "        'microphone',\n",
              "        'serial',\n",
              "        'usb',\n",
              "        'xr-spatial-tracking',\n",
              "    ].join('; ');\n",
              "    element.appendChild(iframe);\n",
              "  })(8050, \"/\", \"100%\", 650, false, window.element)"
            ]
          },
          "metadata": {}
        }
      ]
    },
    {
      "cell_type": "code",
      "source": [
        "def comp_chart(df_d,df_w,df_m):\n",
        "        fig, ax = plt.subplots()\n",
        "        time = ['day', 'week', 'month']\n",
        "        freq = [int(df_d['sentiment'].value_counts()[\"positive\"]/len(df_d)*100),\n",
        "                int(df_w['sentiment'].value_counts()[\"positive\"]/len(df_w)*100),\n",
        "                int(df_m['sentiment'].value_counts()[\"positive\"]/len(df_m)*100)\n",
        "                ]\n",
        "        ax.bar(time, freq)\n",
        "        ax.set_ylabel('% of positive comments')\n",
        "        ax.bar_label(ax.containers[0], label_type='edge')\n",
        "        ax.set_title('Percentage of Positive /r/'+ g_subreddit + ' comments')\n",
        "        plt.show()"
      ],
      "metadata": {
        "id": "MrLeSIxkmvv2"
      },
      "execution_count": 9,
      "outputs": []
    },
    {
      "cell_type": "code",
      "source": [
        "print(\"importing posts\")\n",
        "df_day = get_data(g_subreddit,'day')\n",
        "\n",
        "    #Analyze\n",
        "scores_day = score_data(df_day)\n",
        "\n",
        "    #Generate Charts\n",
        "plot_day = make_chart(scores_day,\"day\")"
      ],
      "metadata": {
        "colab": {
          "base_uri": "https://localhost:8080/",
          "height": 470
        },
        "id": "zTrIdPHGm3Jv",
        "outputId": "5b08011e-bf08-42e9-95a5-d8edf8966256"
      },
      "execution_count": 12,
      "outputs": [
        {
          "output_type": "stream",
          "name": "stdout",
          "text": [
            "importing posts\n"
          ]
        },
        {
          "output_type": "display_data",
          "data": {
            "text/plain": [
              "<Figure size 640x480 with 1 Axes>"
            ],
            "image/png": "[encoded data removed]"
          },
          "metadata": {}
        }
      ]
    },
    {
      "cell_type": "code",
      "source": [
        "comp_chart(get_scored_data('day'),get_scored_data('week'),get_scored_data('month'))"
      ],
      "metadata": {
        "colab": {
          "base_uri": "https://localhost:8080/",
          "height": 452
        },
        "id": "k8te1Saanh2Q",
        "outputId": "b9080914-92fe-40f6-cfc7-6ebb72799f32"
      },
      "execution_count": 13,
      "outputs": [
        {
          "output_type": "display_data",
          "data": {
            "text/plain": [
              "<Figure size 640x480 with 1 Axes>"
            ],
            "image/png": "[encoded data removed]"
          },
          "metadata": {}
        }
      ]
    }
  ]
}